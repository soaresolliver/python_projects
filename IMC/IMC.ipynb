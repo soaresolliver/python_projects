{
 "cells": [
  {
   "cell_type": "code",
   "execution_count": null,
   "id": "9457863c",
   "metadata": {},
   "outputs": [],
   "source": [
    "# Variável de quilograma\n",
    "kg = float(input('Qual seu peso? '))\n",
    "# Variável da altura\n",
    "altura = float(input('Qual sua altura? (Em metros, Ex.: 1.71)'))\n",
    "# Cálculo do IMC\n",
    "IMC = kg/(altura*altura)\n",
    "# Condições para retorno\n",
    "if IMC < 18.5:\n",
    "    print(f'Seu IMC é {round(IMC,2)}. Você está abaixo do peso.')\n",
    "elif IMC <= 24.99:\n",
    "    print(f'Seu IMC é {round(IMC,2)}. Você está no peso ideal.')\n",
    "elif IMC <= 29.99:\n",
    "    print(f'Seu IMC é {round(IMC,2)}. Você está no sobrepeso.')\n",
    "elif IMC <= 34.99:\n",
    "    print(f'Seu IMC é {round(IMC,2)}. Você está na Obesidade grau I.')\n",
    "elif IMC <= 39.99:\n",
    "    print(f'Seu IMC é {round(IMC,2)}. Você está na Obesidade grau II.')\n",
    "else:\n",
    "    print(f'Seu IMC é {round(IMC,2)}. Você está na Obesidade grau III, ou, Mórbida.')"
   ]
  },
  {
   "cell_type": "code",
   "execution_count": null,
   "id": "73b04a1a",
   "metadata": {},
   "outputs": [],
   "source": []
  }
 ],
 "metadata": {
  "kernelspec": {
   "display_name": "Python 3 (ipykernel)",
   "language": "python",
   "name": "python3"
  },
  "language_info": {
   "codemirror_mode": {
    "name": "ipython",
    "version": 3
   },
   "file_extension": ".py",
   "mimetype": "text/x-python",
   "name": "python",
   "nbconvert_exporter": "python",
   "pygments_lexer": "ipython3",
   "version": "3.9.7"
  }
 },
 "nbformat": 4,
 "nbformat_minor": 5
}
