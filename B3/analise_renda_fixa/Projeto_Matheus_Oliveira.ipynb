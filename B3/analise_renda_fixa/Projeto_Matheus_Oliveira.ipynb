{
  "cells": [
    {
      "cell_type": "markdown",
      "metadata": {
        "id": "3mIFjMTiHroj"
      },
      "source": [
        "######Este projeto tem como base o dataset da B3 que foi extraído através do link (https://www.b3.com.br/pt_br/market-data-e-indices/servicos-de-dados/market-data/cotacoes/renda-fixa/) e deve ser executado preferencialmente no Google Colab"
      ]
    },
    {
      "cell_type": "markdown",
      "metadata": {
        "id": "c-OJEvEj3FJO"
      },
      "source": [
        "#Importando Bibliotecas"
      ]
    },
    {
      "cell_type": "code",
      "execution_count": null,
      "metadata": {
        "id": "3irM8vpG7RZW"
      },
      "outputs": [],
      "source": [
        "#Importando bibliotecas\n",
        "\n",
        "import pandas as pd\n",
        "!pip install seaborn==0.11.0\n",
        "import seaborn as sns\n",
        "%matplotlib inline\n",
        "import matplotlib.pyplot as plt"
      ]
    },
    {
      "cell_type": "markdown",
      "metadata": {
        "id": "mi0gsEbe3Ar7"
      },
      "source": [
        "#Análise exploratória e Tratamento dos dados"
      ]
    },
    {
      "cell_type": "code",
      "execution_count": null,
      "metadata": {
        "id": "1Di9nXQpXHKj"
      },
      "outputs": [],
      "source": [
        "# Lendo os arquivos\n",
        "\n",
        "dados_dia_21_fev = pd.read_csv('21-02-2022_NEGOCIOSBALCAO.CSV', sep = ';')\n",
        "dados_dia_22_fev = pd.read_csv('22-02-2022_NEGOCIOSBALCAO.CSV', sep = ';')\n",
        "dados_dia_23_fev = pd.read_csv('23-02-2022_NEGOCIOSBALCAO.CSV', sep = ';')\n",
        "dados_dia_24_fev = pd.read_csv('24-02-2022_NEGOCIOSBALCAO.CSV', sep = ';')\n",
        "dados_dia_25_fev = pd.read_csv('25-02-2022_NEGOCIOSBALCAO.CSV', sep = ';')\n",
        "dados_dia_02_mar = pd.read_csv('02-03-2022_NEGOCIOSBALCAO.CSV', sep = ';')\n",
        "dados_dia_03_mar = pd.read_csv('03-03-2022_NEGOCIOSBALCAO.CSV', sep = ';')\n",
        "dados_dia_04_mar = pd.read_csv('04-03-2022_NEGOCIOSBALCAO.CSV', sep = ';')\n",
        "dados_dia_07_mar = pd.read_csv('07-03-2022_NEGOCIOSBALCAO.CSV', sep = ';')"
      ]
    },
    {
      "cell_type": "code",
      "execution_count": null,
      "metadata": {
        "id": "cNdUqw8AXWUa"
      },
      "outputs": [],
      "source": [
        "# Concatenando os arquivos\n",
        "\n",
        "dados = pd.concat([dados_dia_21_fev,dados_dia_22_fev,dados_dia_23_fev,dados_dia_24_fev,\n",
        "                   dados_dia_25_fev,dados_dia_02_mar,dados_dia_03_mar,dados_dia_04_mar])"
      ]
    },
    {
      "cell_type": "code",
      "execution_count": null,
      "metadata": {
        "id": "B0AJQaaPXQAm"
      },
      "outputs": [],
      "source": [
        "print(f'Temos {dados.shape[0]} linhas, {dados.shape[1]} colunas e {dados.isna().sum().sum()} dados nulos.')"
      ]
    },
    {
      "cell_type": "code",
      "execution_count": null,
      "metadata": {
        "id": "tOy235naXbgt"
      },
      "outputs": [],
      "source": [
        "# Visualizando dados nulos\n",
        "\n",
        "dados.isna().head()"
      ]
    },
    {
      "cell_type": "code",
      "execution_count": null,
      "metadata": {
        "id": "RiJymo8Ef-OH"
      },
      "outputs": [],
      "source": [
        "# Lendo os arquivos, agora retirando a primeira linha com o método 'header'\n",
        "\n",
        "dados_dia_21_fev = pd.read_csv('21-02-2022_NEGOCIOSBALCAO.CSV', sep = ';', header = 1)\n",
        "dados_dia_22_fev = pd.read_csv('22-02-2022_NEGOCIOSBALCAO.CSV', sep = ';', header = 1)\n",
        "dados_dia_23_fev = pd.read_csv('23-02-2022_NEGOCIOSBALCAO.CSV', sep = ';', header = 1)\n",
        "dados_dia_24_fev = pd.read_csv('24-02-2022_NEGOCIOSBALCAO.CSV', sep = ';', header = 1)\n",
        "dados_dia_25_fev = pd.read_csv('25-02-2022_NEGOCIOSBALCAO.CSV', sep = ';', header = 1)\n",
        "dados_dia_02_mar = pd.read_csv('02-03-2022_NEGOCIOSBALCAO.CSV', sep = ';', header = 1)\n",
        "dados_dia_03_mar = pd.read_csv('03-03-2022_NEGOCIOSBALCAO.CSV', sep = ';', header = 1)\n",
        "dados_dia_04_mar = pd.read_csv('04-03-2022_NEGOCIOSBALCAO.CSV', sep = ';', header = 1)\n",
        "dados_dia_07_mar = pd.read_csv('07-03-2022_NEGOCIOSBALCAO.CSV', sep = ';', header = 1)"
      ]
    },
    {
      "cell_type": "code",
      "execution_count": null,
      "metadata": {
        "id": "vPxtu1Swf-SQ"
      },
      "outputs": [],
      "source": [
        "# Concatenando os arquivos\n",
        "\n",
        "dados = pd.concat([dados_dia_21_fev,dados_dia_22_fev,dados_dia_23_fev,\n",
        "                   dados_dia_24_fev,dados_dia_25_fev,dados_dia_02_mar,\n",
        "                   dados_dia_03_mar,dados_dia_04_mar,dados_dia_07_mar])"
      ]
    },
    {
      "cell_type": "code",
      "execution_count": null,
      "metadata": {
        "id": "ei4fUwcuZWz2"
      },
      "outputs": [],
      "source": [
        "# Visualizando dados nulos\n",
        "\n",
        "dados.isna().sum()"
      ]
    },
    {
      "cell_type": "code",
      "execution_count": null,
      "metadata": {
        "id": "nQ-Ab7P-XA_i"
      },
      "outputs": [],
      "source": [
        "# Obs: Os dados nulos diminuiram consideravelmente, os que continuam realmente\n",
        "# são nulos devido a ausência de dados no dataset\n",
        "\n",
        "print(f'Temos {dados.shape[0]} linhas, {dados.shape[1]} colunas e {dados.isna().sum().sum()} dados nulos.')"
      ]
    },
    {
      "cell_type": "code",
      "execution_count": null,
      "metadata": {
        "id": "IRfmvt3MZsV7"
      },
      "outputs": [],
      "source": [
        "# Visualizando os tipos de dados\n",
        "\n",
        "dados.info()"
      ]
    },
    {
      "cell_type": "code",
      "execution_count": null,
      "metadata": {
        "id": "AePTeAvGP6_d"
      },
      "outputs": [],
      "source": [
        "# Alterando os tipos dos dados\n",
        "# Passando para o padrão brasileiro\n",
        "\n",
        "dados = dados.convert_dtypes('utf-8')"
      ]
    },
    {
      "cell_type": "code",
      "execution_count": null,
      "metadata": {
        "id": "i5LIo6dMZ_BY"
      },
      "outputs": [],
      "source": [
        "# Visualizando os tipos de dados\n",
        "\n",
        "dados.dtypes"
      ]
    },
    {
      "cell_type": "code",
      "execution_count": null,
      "metadata": {
        "id": "_Wp3uw-3aA0a"
      },
      "outputs": [],
      "source": [
        "# Alterando os tipos dos dados\n",
        "# Esse código deve ser rodado apenas uma vez\n",
        "# Se for executar novamente, deve executar todo o notebook\n",
        "\n",
        "dados['Data Negocio'] = pd.to_datetime(dados['Data Negocio'], format='%d/%m/%Y')\n",
        "\n",
        "dados['Volume Financeiro R$'] = dados['Volume Financeiro R$'].str.replace(',','.')\n",
        "dados['Taxa Negocio'] = dados['Taxa Negocio'].str.replace(',','.')\n",
        "dados['Preco Negocio'] = dados['Preco Negocio'].str.replace(',','.')\n",
        "\n",
        "dados['Volume Financeiro R$'] = pd.to_numeric(dados['Volume Financeiro R$'])\n",
        "dados['Taxa Negocio'] = pd.to_numeric(dados['Taxa Negocio'])\n",
        "dados['Preco Negocio'] = pd.to_numeric(dados['Preco Negocio'])\n",
        "\n",
        "dados['Volume Financeiro R$'] = dados['Volume Financeiro R$'].round(2)\n",
        "dados['Taxa Negocio'] = dados['Taxa Negocio'].round(2)\n",
        "dados['Preco Negocio'] = dados['Preco Negocio'].round(2)"
      ]
    },
    {
      "cell_type": "code",
      "execution_count": null,
      "metadata": {
        "id": "YpA9bY3BaA3A"
      },
      "outputs": [],
      "source": [
        "# Visualizando os tipos de dados\n",
        "\n",
        "dados.dtypes"
      ]
    },
    {
      "cell_type": "code",
      "execution_count": null,
      "metadata": {
        "id": "is-sq7tHW2H0"
      },
      "outputs": [],
      "source": [
        "# Por causa da 'Quantidade Negociada' permanecer como object, tive que\n",
        "# alterar os dados de uma forma diferente\n",
        "\n",
        "dados['Quantidade Negociada'] = pd.to_numeric(dados['Quantidade Negociada'],errors='coerce')"
      ]
    },
    {
      "cell_type": "code",
      "execution_count": null,
      "metadata": {
        "id": "wfbtyl8XbGdC"
      },
      "outputs": [],
      "source": [
        "# Visualizando os tipos de dados\n",
        "\n",
        "dados.dtypes"
      ]
    },
    {
      "cell_type": "code",
      "execution_count": null,
      "metadata": {
        "id": "lTqPXFfkmaTJ"
      },
      "outputs": [],
      "source": [
        "# Visualizando dados nulos, a 'Quantidade Negociada tem 7'\n",
        "\n",
        "dados.isna().sum()"
      ]
    },
    {
      "cell_type": "code",
      "execution_count": null,
      "metadata": {
        "id": "T7xbXbYKmWFh"
      },
      "outputs": [],
      "source": [
        "# Visualizando dados nulos da 'Quantidade Negociada'\n",
        "\n",
        "qtd_null = dados[dados['Quantidade Negociada'].isnull()]\n",
        "qtd_null"
      ]
    },
    {
      "cell_type": "code",
      "execution_count": null,
      "metadata": {
        "id": "4I0P3-myR_pd"
      },
      "outputs": [],
      "source": [
        "# Calculando percentual de dados nulos\n",
        "\n",
        "percentual_volume_financeiro = (qtd_null['Volume Financeiro R$'].sum() / dados['Volume Financeiro R$'].sum()) * 100\n",
        "print(f' Na coluna Quantidade Negociada, temos {percentual_volume_financeiro.round(2)}% de dados nulos, tendo como base do cáculo o volume financeiro.')"
      ]
    },
    {
      "cell_type": "code",
      "execution_count": null,
      "metadata": {
        "id": "hFpe_fdETYBm"
      },
      "outputs": [],
      "source": [
        "# Decidi dividir o Volume Financeiro pelo Preco Negocio, que daí chegamos\n",
        "# ao valor da quantidade, trazendo uma nova coluna sem erros\n",
        "\n",
        "dados['quantidade_negociada'] = dados['Volume Financeiro R$'] / dados['Preco Negocio']"
      ]
    },
    {
      "cell_type": "code",
      "execution_count": null,
      "metadata": {
        "id": "DMVhQCdVTYED"
      },
      "outputs": [],
      "source": [
        "dados.isna().sum()"
      ]
    },
    {
      "cell_type": "code",
      "execution_count": null,
      "metadata": {
        "id": "1nPaxTgKWST8"
      },
      "outputs": [],
      "source": [
        "# Vendo se realmente retiramos o erro\n",
        "# O index 1700 anteriormente estava com erro, agora já me retorna um valor\n",
        "\n",
        "print(dados['quantidade_negociada'].iloc[1700])"
      ]
    },
    {
      "cell_type": "code",
      "execution_count": null,
      "metadata": {
        "id": "uq1ouiyvckW7"
      },
      "outputs": [],
      "source": [
        "# Agora vamos dropar a planilha de Quantidade Negociada que contém os 7 erros\n",
        "\n",
        "dados = dados.drop(['Quantidade Negociada'], axis=1)"
      ]
    },
    {
      "cell_type": "code",
      "execution_count": null,
      "metadata": {
        "id": "vQzXNjPkdwlf"
      },
      "outputs": [],
      "source": [
        "# Visualizando os dados\n",
        "\n",
        "dados.head()"
      ]
    },
    {
      "cell_type": "code",
      "execution_count": null,
      "metadata": {
        "id": "TxbvE8IEd3ib"
      },
      "outputs": [],
      "source": [
        "# Visualizando os dados nulos\n",
        "\n",
        "dados.isna().sum()"
      ]
    },
    {
      "cell_type": "code",
      "execution_count": null,
      "metadata": {
        "id": "S2Rpd0XgeHMD"
      },
      "outputs": [],
      "source": [
        "# Visualizando nomes das colunas\n",
        "\n",
        "dados.columns"
      ]
    },
    {
      "cell_type": "code",
      "execution_count": null,
      "metadata": {
        "id": "vVKxPr9hfnur"
      },
      "outputs": [],
      "source": [
        "# Renomeando colunas para ficar padronizado\n",
        "\n",
        "renomear = {\n",
        "    'Instrumento Financeiro' : 'instrumento_financeiro',\n",
        "    'Emissor' : 'emissor',\n",
        "    'Codigo IF' : 'codigo_if',\n",
        "    'Preco Negocio' : 'preco_negocio',\n",
        "    'Volume Financeiro R$' : 'volume_financeiro',\n",
        "    'Taxa Negocio' : 'taxa_negocio',\n",
        "    'Origem Negocio' : 'origem_negocio',\n",
        "    'Horario Negocio' : 'horario_negocio',\n",
        "    'Data Negocio' : 'data_negocio',\n",
        "    'Cod. Identificador do Negocio' : 'codigo_identificador_do_negocio',\n",
        "    'quantidade_negociada' : 'quantidade_negociada'\n",
        "}\n",
        "dados = dados.rename(columns = renomear)"
      ]
    },
    {
      "cell_type": "code",
      "execution_count": null,
      "metadata": {
        "id": "rowLqS7ohPDZ"
      },
      "outputs": [],
      "source": [
        "# Criando coluna de porcentagem\n",
        "\n",
        "dados['porcentagem_volume_financeiro'] = (dados['volume_financeiro']/dados['volume_financeiro'].sum())*100"
      ]
    },
    {
      "cell_type": "code",
      "execution_count": null,
      "metadata": {
        "id": "NB3klyYD45Bv"
      },
      "outputs": [],
      "source": [
        "# Criando colunas de Mês e Dia\n",
        "\n",
        "dados['mes_negocio'], dados['dia_negocio'] = (dados['data_negocio'].dt.month , dados['data_negocio'].dt.day)"
      ]
    },
    {
      "cell_type": "code",
      "execution_count": null,
      "metadata": {
        "id": "ojxp7DGcgn8K"
      },
      "outputs": [],
      "source": [
        "# Visualizando os dados nulos\n",
        "\n",
        "dados.head()"
      ]
    },
    {
      "cell_type": "code",
      "execution_count": null,
      "metadata": {
        "id": "D43Sas-j7-dg"
      },
      "outputs": [],
      "source": [
        "# Visualizando tipos dos dados\n",
        "\n",
        "dados.dtypes"
      ]
    },
    {
      "cell_type": "code",
      "execution_count": null,
      "metadata": {
        "id": "mvVC-tjOgk1-"
      },
      "outputs": [],
      "source": [
        "# Visualizando os dados\n",
        "\n",
        "dados.head()"
      ]
    },
    {
      "cell_type": "code",
      "execution_count": null,
      "metadata": {
        "id": "ZNXFd_oBaA2-"
      },
      "outputs": [],
      "source": [
        "# Visualizando os nomes dos instrumentos financeiros\n",
        "\n",
        "dados['instrumento_financeiro'].unique()"
      ]
    },
    {
      "cell_type": "code",
      "execution_count": null,
      "metadata": {
        "id": "utxWMqAVgSXl"
      },
      "outputs": [],
      "source": [
        "# Criando uma nova coluna e alterando para data, pois preciso ver somente as\n",
        "# datas nos gráficos\n",
        "# OBS:. Esse processo não foi feito anteriormente pois precisava-se que\n",
        "# estivesse no outro formato para outras usabilidades\n",
        "\n",
        "dados['data_negocio_completa'] = pd.to_datetime(dados['data_negocio']).dt.date"
      ]
    },
    {
      "cell_type": "code",
      "execution_count": null,
      "metadata": {
        "id": "Go2r0gj290rK"
      },
      "outputs": [],
      "source": [
        "# Removendo dados nulos da coluna Taxa de Negocio\n",
        "\n",
        "taxas_nulas_removidas = dados['taxa_negocio'].dropna()"
      ]
    },
    {
      "cell_type": "code",
      "execution_count": null,
      "metadata": {
        "id": "odvnfXhdAnmz"
      },
      "outputs": [],
      "source": [
        "# Condição para saber se todos os dados nulos da coluna Taxa de Negocio foram\n",
        "# removidos corretamente\n",
        "\n",
        "if(dados.shape[0] - taxas_nulas_removidas.shape[0])==dados['taxa_negocio'].isna().sum():\n",
        "    print('Foram removidos somente os dados nulos da coluna taxa de negocio.')\n",
        "else:\n",
        "    print('Atenção!!! Foram removidos dados a mais do que o previsto.')"
      ]
    },
    {
      "cell_type": "code",
      "execution_count": null,
      "metadata": {
        "id": "brLrCmamAskI"
      },
      "outputs": [],
      "source": [
        "# Vendo a média geral das taxas de negócios\n",
        "\n",
        "print(f'A média geral das taxas de negócios (com os dados nulos removidos) é: {round(taxas_nulas_removidas.mean(),2)}')"
      ]
    },
    {
      "cell_type": "markdown",
      "metadata": {
        "id": "hossfwS36hJz"
      },
      "source": [
        "#Criando Funções"
      ]
    },
    {
      "cell_type": "code",
      "execution_count": null,
      "metadata": {
        "id": "7pjsXBlIOD8k"
      },
      "outputs": [],
      "source": [
        "# Criando função para gráfico de linha\n",
        "\n",
        "def plotar_linha(titulo, labelx, labely, x, y, dataset):\n",
        "    sns.set_palette(\"Blues_r\", 12)\n",
        "    sns.set_style('darkgrid')\n",
        "    ax = sns.lineplot(x=x, y=y, data=dataset)\n",
        "    ax.figure.set_size_inches(12,6)\n",
        "    ax.set_title(titulo,fontsize=18)\n",
        "    ax.set_xlabel(labelx, fontsize=14)\n",
        "    ax.set_ylabel(labely, fontsize=14)\n",
        "    plt.gcf().autofmt_xdate()\n",
        "    ax = ax"
      ]
    },
    {
      "cell_type": "code",
      "execution_count": null,
      "metadata": {
        "id": "bC2YBSBU0GIU"
      },
      "outputs": [],
      "source": [
        "# Criando função para gráfico de barra\n",
        "\n",
        "def plotar_barra_count(titulo, labelx, labely, x, dataset):\n",
        "    sns.set_palette(\"Blues_r\", 12)\n",
        "    sns.set_style('darkgrid')\n",
        "    ax = sns.countplot(x= x, data=dataset)\n",
        "    ax.set_title(titulo, fontsize=18)\n",
        "    ax.figure.set_size_inches(12, 6)\n",
        "    ax.set_xlabel(labelx, fontsize=14)\n",
        "    ax.set_ylabel(labely, fontsize=14)\n",
        "    plt.gcf().autofmt_xdate()\n",
        "    ax=ax"
      ]
    },
    {
      "cell_type": "code",
      "execution_count": null,
      "metadata": {
        "id": "TR_RMkQuK5Iv"
      },
      "outputs": [],
      "source": [
        "def condicao_taxas(x):\n",
        "    if(x['taxa_negocio'].sum() == 0):\n",
        "        print('Não tivemos taxas de negócio neste instrumento financeiro.')\n",
        "    else:\n",
        "        print(f\"Tivemos  o total de {x['taxa_negocio'].sum()} em taxas de negócio neste instrumento financeiro.\")"
      ]
    },
    {
      "cell_type": "markdown",
      "metadata": {
        "id": "cFT9IPmF6spD"
      },
      "source": [
        "#Análise descritiva e Gráfica - Todos os Dados"
      ]
    },
    {
      "cell_type": "code",
      "execution_count": null,
      "metadata": {
        "id": "HPhLqLEl-k09"
      },
      "outputs": [],
      "source": [
        "# Filtrando dados por instrumento financeiro e realizando análise descritiva\n",
        "\n",
        "round(dados.describe(),2)"
      ]
    },
    {
      "cell_type": "code",
      "execution_count": null,
      "metadata": {
        "id": "xee5BYHTZwks"
      },
      "outputs": [],
      "source": [
        "# Analisando valor pago por Instrumento Financeiro\n",
        "\n",
        "taxas_instrumentos = dados[['instrumento_financeiro','taxa_negocio']].groupby('instrumento_financeiro').sum()\n",
        "taxas_instrumentos"
      ]
    },
    {
      "cell_type": "code",
      "execution_count": null,
      "metadata": {
        "id": "yFAkKV2HOA3s"
      },
      "outputs": [],
      "source": [
        "# Gráfico do Volume Financeiro por Instrumento Financeiro\n",
        "\n",
        "ax = sns.catplot(data=dados, x = 'instrumento_financeiro' ,\n",
        "                 y = 'volume_financeiro', color = 'Blue',height=10,\n",
        "                 aspect=1)\n",
        "ax.fig.suptitle('Volume Financeiro (R$) por Instrumento Financeiro',\n",
        "                fontsize=22)\n",
        "ax.set_axis_labels('Instrumento Financeiro', 'Volume Financeiro (R$)',\n",
        "                   fontsize = 18)\n",
        "ax=ax"
      ]
    },
    {
      "cell_type": "code",
      "execution_count": null,
      "metadata": {
        "id": "nc6KCOSJVAN8"
      },
      "outputs": [],
      "source": [
        "# Plotando Gráfico de linha do Volume Financeiro por Data\n",
        "\n",
        "plotar_linha('Volume Financeiro por Dia', 'Data', 'Volume Financeiro (R$)',\n",
        "             'data_negocio_completa', 'volume_financeiro', dados)"
      ]
    },
    {
      "cell_type": "code",
      "execution_count": null,
      "metadata": {
        "id": "A_kSm5-r9XYV"
      },
      "outputs": [],
      "source": [
        "# Plotando Gráfico de barra da Quantidade por dia\n",
        "\n",
        "plotar_barra_count('Quantidade por Dia','Data','Quantidade',\n",
        "                   'data_negocio_completa', dados)"
      ]
    },
    {
      "cell_type": "markdown",
      "metadata": {
        "id": "xBWd1nI17JcG"
      },
      "source": [
        "#Análise descritiva e Gráfica por Instrumento Financeiro"
      ]
    },
    {
      "cell_type": "markdown",
      "metadata": {
        "id": "KVv0_c8d7Vtn"
      },
      "source": [
        "##LF"
      ]
    },
    {
      "cell_type": "code",
      "execution_count": null,
      "metadata": {
        "id": "FVHBAVsXaJqm"
      },
      "outputs": [],
      "source": [
        "# Filtrando dados por instrumento financeiro e realizando análise descritiva\n",
        "\n",
        "LF = dados[dados['instrumento_financeiro'] == 'LF']\n",
        "round(LF.describe(),2)"
      ]
    },
    {
      "cell_type": "code",
      "execution_count": null,
      "metadata": {
        "id": "uL76phKaJgOs"
      },
      "outputs": [],
      "source": [
        "# Usando a função para ver se tivemos taxas ou não\n",
        "\n",
        "condicao_taxas(LF)"
      ]
    },
    {
      "cell_type": "code",
      "execution_count": null,
      "metadata": {
        "id": "8q5QMay6-W15"
      },
      "outputs": [],
      "source": [
        "# Plotando Gráfico de linha do Volume Financeiro por Data\n",
        "\n",
        "plotar_linha('Volume Financeiro por Dia', 'Data', 'Volume Financeiro (R$)',\n",
        "             'data_negocio_completa', 'volume_financeiro', LF)"
      ]
    },
    {
      "cell_type": "code",
      "execution_count": null,
      "metadata": {
        "id": "p4tP5EUEqI-C"
      },
      "outputs": [],
      "source": [
        "# Plotando Gráfico de barra da Quantidade por dia\n",
        "\n",
        "plotar_barra_count('Quantidade por Dia','Data',\n",
        "                   'Quantidade','data_negocio_completa', LF)"
      ]
    },
    {
      "cell_type": "markdown",
      "metadata": {
        "id": "4X8lfsQWCbSu"
      },
      "source": [
        "##DEB"
      ]
    },
    {
      "cell_type": "code",
      "execution_count": null,
      "metadata": {
        "id": "6jtKim9gaZW9"
      },
      "outputs": [],
      "source": [
        "# Filtrando dados por instrumento financeiro e realizando análise descritiva\n",
        "\n",
        "DEB = dados[dados['instrumento_financeiro'] == 'DEB']\n",
        "round(DEB.describe(),2)"
      ]
    },
    {
      "cell_type": "code",
      "execution_count": null,
      "metadata": {
        "id": "1wORwk_qKf7t"
      },
      "outputs": [],
      "source": [
        "# Usando a função para ver se tivemos taxas ou não\n",
        "\n",
        "condicao_taxas(DEB)"
      ]
    },
    {
      "cell_type": "code",
      "execution_count": null,
      "metadata": {
        "id": "XoB_cdRxCelU"
      },
      "outputs": [],
      "source": [
        "# Plotando Gráfico de linha do Volume Financeiro por Data\n",
        "\n",
        "plotar_linha('Volume Financeiro por Dia', 'Data', 'Volume Financeiro (R$)',\n",
        "             'data_negocio_completa', 'volume_financeiro', DEB)"
      ]
    },
    {
      "cell_type": "code",
      "execution_count": null,
      "metadata": {
        "id": "L5p51k3FCesE"
      },
      "outputs": [],
      "source": [
        "# Plotando Gráfico de barra da Quantidade por dia\n",
        "\n",
        "plotar_barra_count('Quantidade por Dia','Data','Quantidade',\n",
        "                   'data_negocio_completa', DEB)"
      ]
    },
    {
      "cell_type": "markdown",
      "metadata": {
        "id": "_coqYZn2CtH3"
      },
      "source": [
        "##CFF"
      ]
    },
    {
      "cell_type": "code",
      "execution_count": null,
      "metadata": {
        "id": "ghzSdbaIaeJA"
      },
      "outputs": [],
      "source": [
        "# Filtrando dados por instrumento financeiro e realizando análise descritiva\n",
        "\n",
        "CFF = dados[dados['instrumento_financeiro'] == 'CFF']\n",
        "round(CFF.describe(),2)"
      ]
    },
    {
      "cell_type": "code",
      "execution_count": null,
      "metadata": {
        "id": "sx_jD0RtLl2i"
      },
      "outputs": [],
      "source": [
        "# Usando a função para ver se tivemos taxas ou não\n",
        "\n",
        "condicao_taxas(CFF)"
      ]
    },
    {
      "cell_type": "code",
      "execution_count": null,
      "metadata": {
        "id": "_z5ONgiUCvFh"
      },
      "outputs": [],
      "source": [
        "# Plotando Gráfico de linha do Volume Financeiro por Data\n",
        "\n",
        "plotar_linha('Volume Financeiro por Dia', 'Data', 'Volume Financeiro (R$)',\n",
        "             'data_negocio_completa', 'volume_financeiro', CFF)"
      ]
    },
    {
      "cell_type": "code",
      "execution_count": null,
      "metadata": {
        "id": "x1GGZfGlCvbr"
      },
      "outputs": [],
      "source": [
        "# Plotando Gráfico de barra da Quantidade por dia\n",
        "\n",
        "plotar_barra_count('Quantidade por Dia','Data','Quantidade',\n",
        "                   'data_negocio_completa', CFF)"
      ]
    },
    {
      "cell_type": "markdown",
      "metadata": {
        "id": "P3MO9lztC75D"
      },
      "source": [
        "##CRA"
      ]
    },
    {
      "cell_type": "code",
      "execution_count": null,
      "metadata": {
        "id": "Tp2JLB-qea5C"
      },
      "outputs": [],
      "source": [
        "# Filtrando dados por instrumento financeiro e realizando análise descritiva\n",
        "\n",
        "CRA = dados[dados['instrumento_financeiro'] == 'CRA']\n",
        "round(CRA.describe(),2)"
      ]
    },
    {
      "cell_type": "code",
      "execution_count": null,
      "metadata": {
        "id": "EYx4mWZ0Lv90"
      },
      "outputs": [],
      "source": [
        "# Usando a função para ver se tivemos taxas ou não\n",
        "\n",
        "condicao_taxas(CRA)"
      ]
    },
    {
      "cell_type": "code",
      "execution_count": null,
      "metadata": {
        "id": "JFu5ayJQC-4K"
      },
      "outputs": [],
      "source": [
        "# Plotando Gráfico de linha do Volume Financeiro por Data\n",
        "\n",
        "plotar_linha('Volume Financeiro por Dia', 'Data', 'Volume Financeiro (R$)',\n",
        "             'data_negocio_completa', 'volume_financeiro', CRA)"
      ]
    },
    {
      "cell_type": "code",
      "execution_count": null,
      "metadata": {
        "id": "A3hgsrqMDFnK"
      },
      "outputs": [],
      "source": [
        "# Plotando Gráfico de barra da Quantidade por dia\n",
        "\n",
        "plotar_barra_count('Quantidade por Dia','Data','Quantidade',\n",
        "                   'data_negocio_completa', CRA)"
      ]
    },
    {
      "cell_type": "markdown",
      "metadata": {
        "id": "mqgGbmSyHMRK"
      },
      "source": [
        "##CRI"
      ]
    },
    {
      "cell_type": "code",
      "execution_count": null,
      "metadata": {
        "id": "C9-zc6xEea_R"
      },
      "outputs": [],
      "source": [
        "# Filtrando dados por instrumento financeiro e realizando análise descritiva\n",
        "\n",
        "CRI = dados[dados['instrumento_financeiro'] == 'CRI']\n",
        "round(CRI.describe(),2)"
      ]
    },
    {
      "cell_type": "code",
      "execution_count": null,
      "metadata": {
        "id": "dorvxlH5LzON"
      },
      "outputs": [],
      "source": [
        "# Usando a função para ver se tivemos taxas ou não\n",
        "\n",
        "condicao_taxas(CRI)"
      ]
    },
    {
      "cell_type": "code",
      "execution_count": null,
      "metadata": {
        "id": "2NN5Ma43GEbx"
      },
      "outputs": [],
      "source": [
        "# Plotando Gráfico de linha do Volume Financeiro por Data\n",
        "\n",
        "plotar_linha('Volume Financeiro por Dia', 'Data', 'Volume Financeiro (R$)',\n",
        "             'data_negocio_completa', 'volume_financeiro', CRI)"
      ]
    },
    {
      "cell_type": "code",
      "execution_count": null,
      "metadata": {
        "id": "r4P0yO6WGEfy"
      },
      "outputs": [],
      "source": [
        "# Plotando Gráfico de barra da Quantidade por dia\n",
        "\n",
        "plotar_barra_count('Quantidade por Dia','Data','Quantidade',\n",
        "                   'data_negocio_completa', CRI)"
      ]
    },
    {
      "cell_type": "markdown",
      "metadata": {
        "id": "v87wPefRHO4x"
      },
      "source": [
        "##COE"
      ]
    },
    {
      "cell_type": "code",
      "execution_count": null,
      "metadata": {
        "id": "GX-I7hNqebB1"
      },
      "outputs": [],
      "source": [
        "# Filtrando dados por instrumento financeiro e realizando análise descritiva\n",
        "\n",
        "COE = dados[dados['instrumento_financeiro'] == 'COE']\n",
        "round(COE.describe(),2)"
      ]
    },
    {
      "cell_type": "code",
      "execution_count": null,
      "metadata": {
        "id": "eL207JSkL2az"
      },
      "outputs": [],
      "source": [
        "# Usando a função para ver se tivemos taxas ou não\n",
        "\n",
        "condicao_taxas(COE)"
      ]
    },
    {
      "cell_type": "code",
      "execution_count": null,
      "metadata": {
        "id": "KnBzJtbfGZxg"
      },
      "outputs": [],
      "source": [
        "# Plotando Gráfico de linha do Volume Financeiro por Data\n",
        "\n",
        "plotar_linha('Volume Financeiro por Dia', 'Data', 'Volume Financeiro (R$)',\n",
        "             'data_negocio_completa', 'volume_financeiro', COE)"
      ]
    },
    {
      "cell_type": "code",
      "execution_count": null,
      "metadata": {
        "id": "G8BBKdKfGZ0t"
      },
      "outputs": [],
      "source": [
        "# Plotando Gráfico de barra da Quantidade por dia\n",
        "\n",
        "plotar_barra_count('Análise de Quantidade por Dia','Data','Quantidade',\n",
        "                   'data_negocio_completa', COE)"
      ]
    },
    {
      "cell_type": "markdown",
      "metadata": {
        "id": "tw_pKOVlHRpS"
      },
      "source": [
        "##NC"
      ]
    },
    {
      "cell_type": "code",
      "execution_count": null,
      "metadata": {
        "id": "ia8WRZYOerfA"
      },
      "outputs": [],
      "source": [
        "# Filtrando dados por instrumento financeiro e realizando análise descritiva\n",
        "\n",
        "NC = dados[dados['instrumento_financeiro'] == 'NC']\n",
        "round(NC.describe(),2)"
      ]
    },
    {
      "cell_type": "code",
      "execution_count": null,
      "metadata": {
        "id": "J8xppWwGL5pQ"
      },
      "outputs": [],
      "source": [
        "# Usando a função para ver se tivemos taxas ou não\n",
        "\n",
        "condicao_taxas(NC)"
      ]
    },
    {
      "cell_type": "code",
      "execution_count": null,
      "metadata": {
        "id": "5hT51TztHU17"
      },
      "outputs": [],
      "source": [
        "# Plotando Gráfico de linha do Volume Financeiro por Data\n",
        "\n",
        "plotar_linha('Volume Financeiro por Dia', 'Data', 'Volume Financeiro (R$)',\n",
        "             'data_negocio_completa', 'volume_financeiro', NC)"
      ]
    },
    {
      "cell_type": "code",
      "execution_count": null,
      "metadata": {
        "id": "GEtogxZeHU70"
      },
      "outputs": [],
      "source": [
        "# Plotando Gráfico de barra da Quantidade por dia\n",
        "\n",
        "plotar_barra_count('Quantidade por Dia','Data','Quantidade',\n",
        "                   'data_negocio_completa', NC)"
      ]
    }
  ],
  "metadata": {
    "colab": {
      "collapsed_sections": [],
      "name": "Projeto_Matheus_Oliveira.ipynb",
      "private_outputs": true,
      "provenance": []
    },
    "kernelspec": {
      "display_name": "Python 3",
      "name": "python3"
    },
    "language_info": {
      "name": "python"
    }
  },
  "nbformat": 4,
  "nbformat_minor": 0
}
